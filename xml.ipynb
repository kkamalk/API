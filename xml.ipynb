{
 "cells": [
  {
   "cell_type": "code",
   "execution_count": 5,
   "id": "6f91f77e",
   "metadata": {},
   "outputs": [],
   "source": [
    "import requests\n",
    "import xml.etree.ElementTree as ET\n",
    "import pandas as pd"
   ]
  },
  {
   "cell_type": "code",
   "execution_count": 9,
   "id": "be6a0e56",
   "metadata": {},
   "outputs": [],
   "source": [
    "url='http://www.user-agents.org/allagents.xml'\n",
    "data=requests.get(url).content"
   ]
  },
  {
   "cell_type": "code",
   "execution_count": 20,
   "id": "9862516b",
   "metadata": {},
   "outputs": [],
   "source": [
    "def xmldf(data):\n",
    "    root=ET.XML(data)\n",
    "    all_records=[]\n",
    "    for i, child in enumerate(root):\n",
    "        record={}\n",
    "        for subchild in child:\n",
    "            record[subchild.tag]=subchild.text\n",
    "        all_records.append(record)\n",
    "    return pd.DataFrame(all_records)"
   ]
  },
  {
   "cell_type": "code",
   "execution_count": 22,
   "id": "1de0d01b",
   "metadata": {},
   "outputs": [],
   "source": [
    "df=xmldf(data)"
   ]
  },
  {
   "cell_type": "code",
   "execution_count": 23,
   "id": "57073f7e",
   "metadata": {},
   "outputs": [
    {
     "data": {
      "text/plain": [
       "(2459, 7)"
      ]
     },
     "execution_count": 23,
     "metadata": {},
     "output_type": "execute_result"
    }
   ],
   "source": [
    "df.shape"
   ]
  },
  {
   "cell_type": "code",
   "execution_count": 24,
   "id": "c6d10718",
   "metadata": {},
   "outputs": [
    {
     "data": {
      "text/html": [
       "<div>\n",
       "<style scoped>\n",
       "    .dataframe tbody tr th:only-of-type {\n",
       "        vertical-align: middle;\n",
       "    }\n",
       "\n",
       "    .dataframe tbody tr th {\n",
       "        vertical-align: top;\n",
       "    }\n",
       "\n",
       "    .dataframe thead th {\n",
       "        text-align: right;\n",
       "    }\n",
       "</style>\n",
       "<table border=\"1\" class=\"dataframe\">\n",
       "  <thead>\n",
       "    <tr style=\"text-align: right;\">\n",
       "      <th></th>\n",
       "      <th>ID</th>\n",
       "      <th>String</th>\n",
       "      <th>Description</th>\n",
       "      <th>Type</th>\n",
       "      <th>Comment</th>\n",
       "      <th>Link1</th>\n",
       "      <th>Link2</th>\n",
       "    </tr>\n",
       "  </thead>\n",
       "  <tbody>\n",
       "    <tr>\n",
       "      <th>0</th>\n",
       "      <td>id_a_f_3</td>\n",
       "      <td>!Susie (http://www.sync2it.com/susie)</td>\n",
       "      <td>Sync2It bookmark management &amp; clustering engine</td>\n",
       "      <td>C R</td>\n",
       "      <td>None</td>\n",
       "      <td>http://www.sync2it.com</td>\n",
       "      <td>None</td>\n",
       "    </tr>\n",
       "    <tr>\n",
       "      <th>1</th>\n",
       "      <td>id_a_f_6</td>\n",
       "      <td>&lt;a href='http://www.unchaos.com/'&gt; UnChaos &lt;/a...</td>\n",
       "      <td>UnCHAOS search robot</td>\n",
       "      <td>R</td>\n",
       "      <td>Site is dead</td>\n",
       "      <td>http://www.unchaos.com/</td>\n",
       "      <td>None</td>\n",
       "    </tr>\n",
       "    <tr>\n",
       "      <th>2</th>\n",
       "      <td>id_a_f_7</td>\n",
       "      <td>&lt;a href='http://www.unchaos.com/'&gt; UnChaos Bot...</td>\n",
       "      <td>UnCHAOS search robot</td>\n",
       "      <td>R</td>\n",
       "      <td>Site is dead</td>\n",
       "      <td>http://www.unchaos.com/</td>\n",
       "      <td>None</td>\n",
       "    </tr>\n",
       "    <tr>\n",
       "      <th>3</th>\n",
       "      <td>id_a_f_8</td>\n",
       "      <td>&lt;b&gt; UnChaosBot From Chaos To Order UnChaos Hyb...</td>\n",
       "      <td>UnCHAOS search robot</td>\n",
       "      <td>R</td>\n",
       "      <td>Site is dead</td>\n",
       "      <td>http://www.unchaos.com/</td>\n",
       "      <td>None</td>\n",
       "    </tr>\n",
       "    <tr>\n",
       "      <th>4</th>\n",
       "      <td>id_a_f_9</td>\n",
       "      <td>&lt;http://www.sygol.com/&gt; http://www.sygol.com</td>\n",
       "      <td>Sygol Search (Italy) robot</td>\n",
       "      <td>R</td>\n",
       "      <td>s.also SygolBot</td>\n",
       "      <td>http://www.sygol.com/</td>\n",
       "      <td>None</td>\n",
       "    </tr>\n",
       "  </tbody>\n",
       "</table>\n",
       "</div>"
      ],
      "text/plain": [
       "         ID                                             String  \\\n",
       "0  id_a_f_3              !Susie (http://www.sync2it.com/susie)   \n",
       "1  id_a_f_6  <a href='http://www.unchaos.com/'> UnChaos </a...   \n",
       "2  id_a_f_7  <a href='http://www.unchaos.com/'> UnChaos Bot...   \n",
       "3  id_a_f_8  <b> UnChaosBot From Chaos To Order UnChaos Hyb...   \n",
       "4  id_a_f_9       <http://www.sygol.com/> http://www.sygol.com   \n",
       "\n",
       "                                       Description Type          Comment  \\\n",
       "0  Sync2It bookmark management & clustering engine  C R             None   \n",
       "1                             UnCHAOS search robot    R     Site is dead   \n",
       "2                             UnCHAOS search robot    R     Site is dead   \n",
       "3                             UnCHAOS search robot    R     Site is dead   \n",
       "4                       Sygol Search (Italy) robot    R  s.also SygolBot   \n",
       "\n",
       "                     Link1 Link2  \n",
       "0   http://www.sync2it.com  None  \n",
       "1  http://www.unchaos.com/  None  \n",
       "2  http://www.unchaos.com/  None  \n",
       "3  http://www.unchaos.com/  None  \n",
       "4    http://www.sygol.com/  None  "
      ]
     },
     "execution_count": 24,
     "metadata": {},
     "output_type": "execute_result"
    }
   ],
   "source": [
    "df.head()"
   ]
  },
  {
   "cell_type": "code",
   "execution_count": null,
   "id": "9dabe324",
   "metadata": {},
   "outputs": [],
   "source": []
  }
 ],
 "metadata": {
  "kernelspec": {
   "display_name": "Python 3 (ipykernel)",
   "language": "python",
   "name": "python3"
  },
  "language_info": {
   "codemirror_mode": {
    "name": "ipython",
    "version": 3
   },
   "file_extension": ".py",
   "mimetype": "text/x-python",
   "name": "python",
   "nbconvert_exporter": "python",
   "pygments_lexer": "ipython3",
   "version": "3.9.12"
  }
 },
 "nbformat": 4,
 "nbformat_minor": 5
}
