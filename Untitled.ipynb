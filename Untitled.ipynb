{
 "cells": [
  {
   "cell_type": "code",
   "execution_count": 6,
   "id": "922d998d",
   "metadata": {},
   "outputs": [],
   "source": [
    "\n",
    "import requests # get connection\n",
    "import pandas as pd\n",
    "import json\n",
    "\n",
    "\n",
    "\n",
    "\n",
    "\n"
   ]
  },
  {
   "cell_type": "code",
   "execution_count": 7,
   "id": "22c39638",
   "metadata": {},
   "outputs": [],
   "source": [
    "Api_Key='2pDLa5j4iIts8ie0QfcC55oGVCdMcXjV'\n",
    "url='https://api.nytimes.com/svc/mostpopular/v2/viewed/7.json?api-key=2pDLa5j4iIts8ie0QfcC55oGVCdMcXjV'\n",
    "b=requests.get(url).json()"
   ]
  },
  {
   "cell_type": "code",
   "execution_count": 8,
   "id": "3640c4cd",
   "metadata": {},
   "outputs": [
    {
     "name": "stdout",
     "output_type": "stream",
     "text": [
      "Single Mega Millions Ticket Wins $1.34 Billion as Jackpot Grows\n",
      "Girl, 12, Escapes Captivity, Leading Alabama Authorities to Find 2 Bodies\n",
      "Alex Jones, Under Questioning, Is Confronted With Evidence of Deception\n",
      "A 17-Year-Old Is Killed and 4 Are Hospitalized in River Tubing Stabbing\n",
      "Jennette McCurdy Is Ready to Move Forward, and to Look Back\n",
      "A Large Object Landed on His Sheep Farm. It Came From Space.\n",
      "Why Pelosi’s Visit to Taiwan Is Utterly Reckless\n",
      "Don’t Call It a Swimming Pool\n",
      "Beyoncé Will Change Lyrics After Criticism Over ‘Ableist Language’\n",
      "As Monkeypox Spreads, U.S. Declares a Health Emergency\n",
      "Trump Faces Questions About His Net Worth in Interview He Tried to Avoid\n",
      "LIV Golfers, Paid Upfront, Giggle Their Way Around Trump Bedminster\n",
      "‘Team Molly’ Parents Sue E-Bike Company Over Daughter’s Death\n",
      "‘They’re Just Going to Let Me Die?’ One Woman’s Abortion Odyssey\n",
      "A Stranger Filmed Her on the Train. TikTok Users Decided She Had Monkeypox.\n",
      "The Default Tech Settings You Should Turn Off Right Away\n",
      "Biden Tests Positive for Coronavirus Again in ‘Rebound’ Case\n",
      "Bill Russell, Who Transformed Pro Basketball, Dies at 88\n",
      "Liz Cheney Is Prepared to Lose Power, and It Shows\n",
      "Kansas Votes to Preserve Abortion Rights Protections in Its Constitution\n"
     ]
    }
   ],
   "source": [
    "for i in b['results']:\n",
    "    print(i['title'])"
   ]
  },
  {
   "cell_type": "code",
   "execution_count": 9,
   "id": "26c8e6c3",
   "metadata": {},
   "outputs": [
    {
     "data": {
      "text/plain": [
       "['status', 'copyright', 'num_results', 'results']"
      ]
     },
     "execution_count": 9,
     "metadata": {},
     "output_type": "execute_result"
    }
   ],
   "source": [
    "list (requests.get ('https://api.nytimes.com/svc/mostpopular/v2/viewed/7.json?api-key=2pDLa5j4iIts8ie0QfcC55oGVCdMcXjV').json())"
   ]
  },
  {
   "cell_type": "code",
   "execution_count": 10,
   "id": "6aaeb685",
   "metadata": {},
   "outputs": [],
   "source": [
    "dta_=[]\n",
    "for i in requests.get('https://api.nytimes.com/svc/mostpopular/v2/viewed/7.json?api-key=2pDLa5j4iIts8ie0QfcC55oGVCdMcXjV').json()['results']:\n",
    "    dta_.append(i)"
   ]
  },
  {
   "cell_type": "code",
   "execution_count": 11,
   "id": "ba081957",
   "metadata": {},
   "outputs": [],
   "source": [
    "df=pd.DataFrame(dta_)\n"
   ]
  },
  {
   "cell_type": "code",
   "execution_count": 12,
   "id": "d361603d",
   "metadata": {},
   "outputs": [],
   "source": [
    "my_data={'source':[],'published_date':[],'adx_keywords':[],'byline':[],\n",
    "         'title':[],'abstract':[],'des_facet':[],'per_facet':[],'media':[]}"
   ]
  },
  {
   "cell_type": "code",
   "execution_count": 13,
   "id": "dd588d10",
   "metadata": {},
   "outputs": [],
   "source": [
    "pop_articles=requests.get\\\n",
    "(url).json()['results']\n"
   ]
  },
  {
   "cell_type": "code",
   "execution_count": 14,
   "id": "952f7dff",
   "metadata": {},
   "outputs": [],
   "source": [
    "#Parse API and take what we want specifically\n",
    "h=[] # store our media which is a list of dictionaries\n",
    " \n",
    "for news_stuff in pop_articles:\n",
    "    if 'source' in news_stuff:\n",
    "        my_data['source'].append(news_stuff['source'])\n",
    "    if 'published_date' in news_stuff:\n",
    "        my_data['published_date'].append(news_stuff['published_date'])\n",
    "        \n",
    "    if 'adx_keywords' in news_stuff:\n",
    "        my_data['adx_keywords'].append(news_stuff['adx_keywords'])\n",
    "    if 'byline' in news_stuff:\n",
    "        my_data['byline'].append(news_stuff['byline'])\n",
    "    else:\n",
    "        my_data['byline'].append(None)\n",
    "    if 'title' in news_stuff:\n",
    "        my_data['title'].append(news_stuff['title'])\n",
    "    if 'abstract' in news_stuff:\n",
    "        my_data['abstract'].append(news_stuff['abstract'])\n",
    "        \n",
    "    if 'des_facet' in news_stuff:\n",
    "        my_data['des_facet'].append(news_stuff['des_facet'])\n",
    "    else:\n",
    "        my_data['des_facet'].append(None)\n",
    "        \n",
    "    if 'per_facet' in news_stuff:\n",
    "        my_data['per_facet'].append(news_stuff['per_facet'])\n",
    "    else:\n",
    "        my_data['per_facet'].append(None)\n",
    "    \n",
    "    if 'media' in news_stuff:\n",
    "        h.append(news_stuff['media'])\n",
    "    else:\n",
    "        my_data['media'].append(None)"
   ]
  },
  {
   "cell_type": "raw",
   "id": "5bcb63bb",
   "metadata": {},
   "source": [
    "# Enter Nested Portion of Data:\n",
    "a=[] # store the captions which are strings I want\n",
    "for i in h:\n",
    "    if i==[]:\n",
    "        a.append(None)\n",
    "    else:\n",
    "        for j in i:\n",
    "            if 'caption' in j:\n",
    "                a.append(j['caption'])\n",
    "            else:\n",
    "                  a.append(None)"
   ]
  },
  {
   "cell_type": "code",
   "execution_count": null,
   "id": "ab2abfcd",
   "metadata": {},
   "outputs": [],
   "source": [
    "# Iterate through new data for captions:               \n",
    "for i in a:\n",
    "    if i =='':\n",
    "        my_data['media'].append(None)\n",
    "    else:\n",
    "        my_data['media'].append(i)\n",
    "        print(i)"
   ]
  },
  {
   "cell_type": "code",
   "execution_count": null,
   "id": "40fb1b98",
   "metadata": {},
   "outputs": [],
   "source": []
  },
  {
   "cell_type": "code",
   "execution_count": null,
   "id": "a7965bdc",
   "metadata": {},
   "outputs": [],
   "source": [
    "# dataframe with everything I want for later:\n",
    "df_fin=pd.DataFrame(my_data)\n",
    "df_fin.head()"
   ]
  },
  {
   "cell_type": "code",
   "execution_count": 23,
   "id": "0364493f",
   "metadata": {},
   "outputs": [
    {
     "ename": "SyntaxError",
     "evalue": "invalid syntax (2195685105.py, line 14)",
     "output_type": "error",
     "traceback": [
      "\u001b[1;36m  Input \u001b[1;32mIn [23]\u001b[1;36m\u001b[0m\n\u001b[1;33m    adx_keywords.append(x['adx_keywords'])\u001b[0m\n\u001b[1;37m    ^\u001b[0m\n\u001b[1;31mSyntaxError\u001b[0m\u001b[1;31m:\u001b[0m invalid syntax\n"
     ]
    }
   ],
   "source": [
    "soure=[]\n",
    "published_data=[]\n",
    "adx_keywords=[]\n",
    "byline=[]\n",
    "title=[]\n",
    "abstract=[]\n",
    "des_facet=[]\n",
    "per_facet=[]\n",
    "media=[]\n",
    "\n",
    "for x in b:\n",
    "  source.append(x['source'])\n",
    "  published_data.append(x['published_data']\n",
    "  adx_keywords.append(x['adx_keywords'])\n",
    "  title.append(x['title'])\n",
    "  abstract.append(x['abstract'])\n",
    "  des_facet.append(x['des_facet'])\n",
    "  per_facet.append(x['per_facet'])\n",
    "  media.append(x['media'])\n",
    "\n",
    "my_data={'source':source,'published_data':published_data,'adx_keywords':adx_keywords,'byline':byline,'title':title,'abstract':abstract,'des_facet':des_facet,'per_facet':per_facet,'media':media}\n",
    "\n",
    "         \n",
    "df=pd.DataFrame(my_data)"
   ]
  },
  {
   "cell_type": "code",
   "execution_count": 2,
   "id": "59b72664",
   "metadata": {},
   "outputs": [
    {
     "name": "stdout",
     "output_type": "stream",
     "text": [
      "['apple', 'banana', 'cherry', None]\n"
     ]
    }
   ],
   "source": [
    "fruits = [\"apple\", \"banana\", \"cherry\"]\n",
    "\n",
    "fruits.append(None)\n",
    "\n",
    "\n",
    "print(fruits)\n"
   ]
  },
  {
   "cell_type": "code",
   "execution_count": null,
   "id": "3badc42d",
   "metadata": {},
   "outputs": [],
   "source": []
  }
 ],
 "metadata": {
  "kernelspec": {
   "display_name": "Python 3 (ipykernel)",
   "language": "python",
   "name": "python3"
  },
  "language_info": {
   "codemirror_mode": {
    "name": "ipython",
    "version": 3
   },
   "file_extension": ".py",
   "mimetype": "text/x-python",
   "name": "python",
   "nbconvert_exporter": "python",
   "pygments_lexer": "ipython3",
   "version": "3.9.12"
  }
 },
 "nbformat": 4,
 "nbformat_minor": 5
}
