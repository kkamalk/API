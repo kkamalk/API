{
 "cells": [
  {
   "cell_type": "code",
   "execution_count": 47,
   "id": "f32339d7",
   "metadata": {},
   "outputs": [],
   "source": [
    "\n",
    "import requests # get connection\n",
    "import pandas as pd\n",
    "import json\n"
   ]
  },
  {
   "cell_type": "code",
   "execution_count": 41,
   "id": "18a85a48",
   "metadata": {},
   "outputs": [],
   "source": [
    "Api_Key='2pDLa5j4iIts8ie0QfcC55oGVCdMcXjV'\n",
    "url='https://api.nytimes.com/svc/mostpopular/v2/viewed/7.json?api-key=2pDLa5j4iIts8ie0QfcC55oGVCdMcXjV'#\n",
    "b=requests.get('https://api.nytimes.com/svc/mostpopular/v2/viewed/7.json?api-key=2pDLa5j4iIts8ie0QfcC55oGVCdMcXjV').json()\n",
    "#cv=[]\n",
    "#for x in requests.get('https://api.nytimes.com/svc/mostpopular/v2/viewed/7.json?api-key=2pDLa5j4iIts8ie0QfcC55oGVCdMcXjV').json()\n",
    "        #cv.append(x)"
   ]
  },
  {
   "cell_type": "code",
   "execution_count": 42,
   "id": "21eab7a1",
   "metadata": {},
   "outputs": [],
   "source": [
    "df=pd.DataFrame(b)"
   ]
  },
  {
   "cell_type": "code",
   "execution_count": 45,
   "id": "55a3051f",
   "metadata": {},
   "outputs": [
    {
     "ename": "IndentationError",
     "evalue": "expected an indented block (2382980455.py, line 2)",
     "output_type": "error",
     "traceback": [
      "\u001b[1;36m  Input \u001b[1;32mIn [45]\u001b[1;36m\u001b[0m\n\u001b[1;33m    #print (i['media'])\u001b[0m\n\u001b[1;37m                       ^\u001b[0m\n\u001b[1;31mIndentationError\u001b[0m\u001b[1;31m:\u001b[0m expected an indented block\n"
     ]
    }
   ],
   "source": [
    "for i in df ['results']:\n",
    "    #print (i['media'])"
   ]
  },
  {
   "cell_type": "raw",
   "id": "f4dc7a40",
   "metadata": {},
   "source": [
    "source=[]\n",
    "published_data=[]\n",
    "adx_keywords=[]\n",
    "byline=[]\n",
    "title=[]\n",
    "abstract=[]\n",
    "des_facet=[]\n",
    "per_facet=[]\n",
    "media=[]\n",
    "\n",
    "for i in b:\n",
    "    source.append(i['source'])\n",
    "    published_data.append(i['published_data'])\n",
    "    adx_keywords.append(i['adx_keywords'])\n",
    "    byline.append(i['byline'])\n",
    "    title.append(i['title'])\n",
    "    abstract.append(i['abstract'])\n",
    "    des_facet.append(i['des_facet'])\n",
    "    per_facet.append(i['per_facet'])\n",
    "    media.append(i['media'])\n",
    "my_data={'source':source,'published_data':published_data,'adx_keywords':adx_keywords,\\\n",
    "            'byline':byline, 'title':title,'abstract':abstract,'des_facet':des_facet,'per_facet':per_facet,'media':media}\n",
    "\n",
    "         \n",
    "        \n",
    "        "
   ]
  },
  {
   "cell_type": "code",
   "execution_count": null,
   "id": "3df77fb6",
   "metadata": {},
   "outputs": [],
   "source": [
    "d"
   ]
  },
  {
   "cell_type": "code",
   "execution_count": null,
   "id": "e24b43a9",
   "metadata": {},
   "outputs": [],
   "source": []
  },
  {
   "cell_type": "code",
   "execution_count": null,
   "id": "af10ee70",
   "metadata": {},
   "outputs": [],
   "source": []
  }
 ],
 "metadata": {
  "kernelspec": {
   "display_name": "Python 3 (ipykernel)",
   "language": "python",
   "name": "python3"
  },
  "language_info": {
   "codemirror_mode": {
    "name": "ipython",
    "version": 3
   },
   "file_extension": ".py",
   "mimetype": "text/x-python",
   "name": "python",
   "nbconvert_exporter": "python",
   "pygments_lexer": "ipython3",
   "version": "3.9.12"
  }
 },
 "nbformat": 4,
 "nbformat_minor": 5
}
