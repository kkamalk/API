{
 "cells": [
  {
   "cell_type": "code",
   "execution_count": 150,
   "id": "3a0a69de",
   "metadata": {},
   "outputs": [],
   "source": [
    "Api_Key='2pDLa5j4iIts8ie0QfcC55oGVCdMcXjV'\n",
    "url='https://api.nytimes.com/svc/mostpopular/v2/viewed/7.json?api-key=2pDLa5j4iIts8ie0QfcC55oGVCdMcXjV'#\n",
    "b=requests.get('https://api.nytimes.com/svc/mostpopular/v2/viewed/7.json?api-key=2pDLa5j4iIts8ie0QfcC55oGVCdMcXjV').json()"
   ]
  },
  {
   "cell_type": "code",
   "execution_count": 149,
   "id": "747f9a72",
   "metadata": {},
   "outputs": [],
   "source": [
    "\n",
    "import requests # get connection\n",
    "import pandas as pd\n",
    "import json\n"
   ]
  },
  {
   "cell_type": "code",
   "execution_count": 163,
   "id": "bbc6a830",
   "metadata": {},
   "outputs": [
    {
     "name": "stderr",
     "output_type": "stream",
     "text": [
      "C:\\Users\\kamal\\AppData\\Local\\Temp\\ipykernel_41876\\3283038583.py:31: FutureWarning: The frame.append method is deprecated and will be removed from pandas in a future version. Use pandas.concat instead.\n",
      "  final=final.append(df)\n"
     ]
    }
   ],
   "source": [
    "final=pd.DataFrame()\n",
    "\n",
    "source=[]\n",
    "published_date=[]\n",
    "adx_keywords=[]\n",
    "byline=[]\n",
    "title=[]\n",
    "abstract=[]\n",
    "des_facet=[]\n",
    "per_facet=[]\n",
    "media=[]\n",
    "\n",
    "\n",
    "for x in b ['results']:\n",
    "    source.append(x['source'])\n",
    "    published_date.append(x['published_date'])\n",
    "    adx_keywords.append(x['adx_keywords'])\n",
    "    byline.append(x['byline'])\n",
    "    title.append(x['title'])\n",
    "    abstract.append(x['abstract'])\n",
    "    des_facet.append(x['des_facet'])\n",
    "    per_facet.append(x['per_facet'])\n",
    "    media.append(x['media'])\n",
    "    d={'source':source,'published_date':published_date,'adx_keywords':adx_keywords,'byline':byline,'title':title,\\\n",
    "       'abstract':abstract,'des_facet':des_facet,'per_facet':per_facet,'media':media}\n",
    " \n",
    "       \n",
    "        \n",
    "    \n",
    "df=pd.DataFrame(d)\n",
    "final=final.append(df)\n",
    "#df.head()\n",
    "\n",
    "    \n"
   ]
  },
  {
   "cell_type": "code",
   "execution_count": 78,
   "id": "1e25713d",
   "metadata": {},
   "outputs": [],
   "source": [
    "#df.head()"
   ]
  },
  {
   "cell_type": "code",
   "execution_count": 79,
   "id": "9d0553d5",
   "metadata": {},
   "outputs": [],
   "source": [
    "#df"
   ]
  },
  {
   "cell_type": "code",
   "execution_count": 80,
   "id": "c55d8376",
   "metadata": {},
   "outputs": [],
   "source": [
    "#list[media].pop(nested_media)"
   ]
  },
  {
   "cell_type": "code",
   "execution_count": 81,
   "id": "b74856e3",
   "metadata": {},
   "outputs": [],
   "source": [
    "#df[\"media\"].replace(\"type\",None)"
   ]
  },
  {
   "cell_type": "code",
   "execution_count": 82,
   "id": "06d7cd18",
   "metadata": {},
   "outputs": [],
   "source": [
    "#df.loc[0]"
   ]
  },
  {
   "cell_type": "code",
   "execution_count": 83,
   "id": "000277fb",
   "metadata": {},
   "outputs": [],
   "source": [
    "#b=df.pop('media').copy()"
   ]
  },
  {
   "cell_type": "code",
   "execution_count": 84,
   "id": "44f40317",
   "metadata": {},
   "outputs": [],
   "source": [
    "#df.head()"
   ]
  },
  {
   "cell_type": "code",
   "execution_count": 115,
   "id": "756b6937",
   "metadata": {},
   "outputs": [],
   "source": [
    "#df.drop(df.columns[[0,1,2]], axis=1, inplace=False)\n"
   ]
  },
  {
   "cell_type": "code",
   "execution_count": 145,
   "id": "621a6216",
   "metadata": {},
   "outputs": [],
   "source": [
    "\n",
    "           # Enter Nested Portion of Data:\n",
    "a=[] # store the captions which are strings I want\n",
    "for i in media:\n",
    "             if i==[]:\n",
    "                a.append(None)\n",
    "             else:\n",
    "                \n",
    "   \n",
    "                 for j in i:\n",
    "                    if 'caption' in j:\n",
    "                        a.append(j['caption'])\n",
    "                    else:\n",
    "                        a.append(None)\n"
   ]
  },
  {
   "cell_type": "code",
   "execution_count": 168,
   "id": "8476fc45",
   "metadata": {},
   "outputs": [
    {
     "name": "stdout",
     "output_type": "stream",
     "text": [
      "A Mega Millions lottery ticket at a 7-Eleven convenience store in Chino Hills, Calif., on Thursday.\n",
      "“She’s a hero,” Sheriff Jimmy Abbett of Tallapoosa County, Ala., said of a 12-year-old girl who had managed to escape from captivity. “She’s safe and we want to keep her that way.”\n",
      "None\n",
      "The authorities searched the area near the Apple River with metal detectors after five people were stabbed while tubing down the river on Saturday.\n",
      "Jennette McCurdy’s relationship with her mother is the narrative force at the center of her memoir: “It’s the heartbeat of my life.”\n",
      "A sheepherder in Dalgety, Australia, stumbled upon a tall piece of space junk, said to be debris from the SpaceX Crew-1 spacecraft.\n",
      "“The word, not used intentionally in a harmful way, will be replaced,” a spokeswoman for Beyoncé said in an email.\n",
      "Donald J. Trump has been deposed many times in a variety of settings, but the stakes of his scheduled session with the New York attorney general’s office are uncommonly high.\n",
      "A monkeypox vaccination at a clinic on Fire Island in New York this month. As of Wednesday, the United States had recorded nearly 7,000 monkeypox cases.\n",
      "Brooks Koepka and his wife, Jena Sims, rode a golf cart just before the start of the LIV Golf event in Bedminster, N.J.\n",
      "Jonathan and Kaye Steinsapir in the room of their daughter, Molly, who died last year after an e-bike accident.\n",
      "“We really wanted just a ‘cocktail pool’ that we could dip in, have some drinks, have some friends over. We just didn’t want a big pool,” said homeowner Amy Holland, whose plunge pool (seen here) did not interfere with the lengthy root system of the 100-year-old live oak on the property.\n",
      "Madison Underwood hugging her mother while her fiancé, Adam Queen, takes a break from the predawn drive across state lines to a Georgia abortion clinic.\n",
      "President Biden at the White House on Wednesday after ending his isolation. His latest positive test forced him to resume “strict isolation procedures,” as his doctor put it.\n",
      "Bill Russell with his coach, Red Auerbach, in December 1964 after scoring his 10,000th career point in a game in Boston Garden. In a 1980 poll of basketball writers, he was voted the greatest player in N.B.A. history.\n",
      "Representative Jackie Walorski served as the top Republican on the House Ethics Committee.\n",
      "Celebrating in Overland Park, Kan., on Tuesday night after voters rejected a referendum that could have led to the restriction of abortion rights.\n"
     ]
    }
   ],
   "source": [
    "# Iterate through new data for captions:               \n",
    "for i in a:\n",
    "    if i =='':\n",
    "        d['media'].append(None)\n",
    "    else:\n",
    "        d['media'].append(i)\n",
    "        print(i)\n",
    "\n",
    "\n",
    "       "
   ]
  },
  {
   "cell_type": "code",
   "execution_count": 171,
   "id": "ae3ebb24",
   "metadata": {},
   "outputs": [
    {
     "data": {
      "text/html": [
       "<div>\n",
       "<style scoped>\n",
       "    .dataframe tbody tr th:only-of-type {\n",
       "        vertical-align: middle;\n",
       "    }\n",
       "\n",
       "    .dataframe tbody tr th {\n",
       "        vertical-align: top;\n",
       "    }\n",
       "\n",
       "    .dataframe thead th {\n",
       "        text-align: right;\n",
       "    }\n",
       "</style>\n",
       "<table border=\"1\" class=\"dataframe\">\n",
       "  <thead>\n",
       "    <tr style=\"text-align: right;\">\n",
       "      <th></th>\n",
       "      <th>source</th>\n",
       "      <th>published_date</th>\n",
       "      <th>adx_keywords</th>\n",
       "      <th>byline</th>\n",
       "      <th>title</th>\n",
       "      <th>abstract</th>\n",
       "      <th>des_facet</th>\n",
       "      <th>per_facet</th>\n",
       "      <th>media</th>\n",
       "    </tr>\n",
       "  </thead>\n",
       "  <tbody>\n",
       "    <tr>\n",
       "      <th>0</th>\n",
       "      <td>New York Times</td>\n",
       "      <td>2022-07-29</td>\n",
       "      <td>Lotteries;Frauds and Swindling;Kurland, Jason M</td>\n",
       "      <td>By Christine Hauser</td>\n",
       "      <td>Single Mega Millions Ticket Wins $1.34 Billion...</td>\n",
       "      <td>The total rose again Saturday, but it was not ...</td>\n",
       "      <td>[Lotteries, Frauds and Swindling]</td>\n",
       "      <td>[Kurland, Jason M]</td>\n",
       "      <td>[{'type': 'image', 'subtype': 'photo', 'captio...</td>\n",
       "    </tr>\n",
       "    <tr>\n",
       "      <th>1</th>\n",
       "      <td>New York Times</td>\n",
       "      <td>2022-08-02</td>\n",
       "      <td>Kidnapping and Hostages;Child Abuse and Neglec...</td>\n",
       "      <td>By McKenna Oxenden and Michael Levenson</td>\n",
       "      <td>Girl, 12, Escapes Captivity, Leading Alabama A...</td>\n",
       "      <td>José Paulino Pascual-Reyes, 37, was charged wi...</td>\n",
       "      <td>[Kidnapping and Hostages, Child Abuse and Negl...</td>\n",
       "      <td>[Pascual-Reyes, Jose Paulino]</td>\n",
       "      <td>[{'type': 'image', 'subtype': 'photo', 'captio...</td>\n",
       "    </tr>\n",
       "    <tr>\n",
       "      <th>2</th>\n",
       "      <td>New York Times</td>\n",
       "      <td>2022-08-03</td>\n",
       "      <td>Newtown, Conn, Shooting (2012);Suits and Litig...</td>\n",
       "      <td>By Elizabeth Williamson</td>\n",
       "      <td>Alex Jones, Under Questioning, Is Confronted W...</td>\n",
       "      <td>The Infowars conspiracy theorist was presented...</td>\n",
       "      <td>[Newtown, Conn, Shooting (2012), Suits and Lit...</td>\n",
       "      <td>[Jones, Alex (1974- ), Heslin, Neil, Lewis, Sc...</td>\n",
       "      <td>[]</td>\n",
       "    </tr>\n",
       "    <tr>\n",
       "      <th>3</th>\n",
       "      <td>New York Times</td>\n",
       "      <td>2022-07-30</td>\n",
       "      <td>Rivers;Murders, Attempted Murders and Homicide...</td>\n",
       "      <td>By Vimal Patel</td>\n",
       "      <td>A 17-Year-Old Is Killed and 4 Are Hospitalized...</td>\n",
       "      <td>The suspect, a 52-year-old man from Minnesota,...</td>\n",
       "      <td>[Rivers, Murders, Attempted Murders and Homici...</td>\n",
       "      <td>[Miu, Nicolae]</td>\n",
       "      <td>[{'type': 'image', 'subtype': 'photo', 'captio...</td>\n",
       "    </tr>\n",
       "    <tr>\n",
       "      <th>4</th>\n",
       "      <td>New York Times</td>\n",
       "      <td>2022-08-03</td>\n",
       "      <td>Books and Literature;Parenting;Actors and Actr...</td>\n",
       "      <td>By Dave Itzkoff</td>\n",
       "      <td>Jennette McCurdy Is Ready to Move Forward, and...</td>\n",
       "      <td>In her memoir, “I’m Glad My Mom Died,” McCurdy...</td>\n",
       "      <td>[Books and Literature, Parenting, Actors and A...</td>\n",
       "      <td>[Cosgrove, Miranda, Grande, Ariana, McCurdy, J...</td>\n",
       "      <td>[{'type': 'image', 'subtype': 'photo', 'captio...</td>\n",
       "    </tr>\n",
       "  </tbody>\n",
       "</table>\n",
       "</div>"
      ],
      "text/plain": [
       "           source published_date  \\\n",
       "0  New York Times     2022-07-29   \n",
       "1  New York Times     2022-08-02   \n",
       "2  New York Times     2022-08-03   \n",
       "3  New York Times     2022-07-30   \n",
       "4  New York Times     2022-08-03   \n",
       "\n",
       "                                        adx_keywords  \\\n",
       "0    Lotteries;Frauds and Swindling;Kurland, Jason M   \n",
       "1  Kidnapping and Hostages;Child Abuse and Neglec...   \n",
       "2  Newtown, Conn, Shooting (2012);Suits and Litig...   \n",
       "3  Rivers;Murders, Attempted Murders and Homicide...   \n",
       "4  Books and Literature;Parenting;Actors and Actr...   \n",
       "\n",
       "                                    byline  \\\n",
       "0                      By Christine Hauser   \n",
       "1  By McKenna Oxenden and Michael Levenson   \n",
       "2                  By Elizabeth Williamson   \n",
       "3                           By Vimal Patel   \n",
       "4                          By Dave Itzkoff   \n",
       "\n",
       "                                               title  \\\n",
       "0  Single Mega Millions Ticket Wins $1.34 Billion...   \n",
       "1  Girl, 12, Escapes Captivity, Leading Alabama A...   \n",
       "2  Alex Jones, Under Questioning, Is Confronted W...   \n",
       "3  A 17-Year-Old Is Killed and 4 Are Hospitalized...   \n",
       "4  Jennette McCurdy Is Ready to Move Forward, and...   \n",
       "\n",
       "                                            abstract  \\\n",
       "0  The total rose again Saturday, but it was not ...   \n",
       "1  José Paulino Pascual-Reyes, 37, was charged wi...   \n",
       "2  The Infowars conspiracy theorist was presented...   \n",
       "3  The suspect, a 52-year-old man from Minnesota,...   \n",
       "4  In her memoir, “I’m Glad My Mom Died,” McCurdy...   \n",
       "\n",
       "                                           des_facet  \\\n",
       "0                  [Lotteries, Frauds and Swindling]   \n",
       "1  [Kidnapping and Hostages, Child Abuse and Negl...   \n",
       "2  [Newtown, Conn, Shooting (2012), Suits and Lit...   \n",
       "3  [Rivers, Murders, Attempted Murders and Homici...   \n",
       "4  [Books and Literature, Parenting, Actors and A...   \n",
       "\n",
       "                                           per_facet  \\\n",
       "0                                 [Kurland, Jason M]   \n",
       "1                      [Pascual-Reyes, Jose Paulino]   \n",
       "2  [Jones, Alex (1974- ), Heslin, Neil, Lewis, Sc...   \n",
       "3                                     [Miu, Nicolae]   \n",
       "4  [Cosgrove, Miranda, Grande, Ariana, McCurdy, J...   \n",
       "\n",
       "                                               media  \n",
       "0  [{'type': 'image', 'subtype': 'photo', 'captio...  \n",
       "1  [{'type': 'image', 'subtype': 'photo', 'captio...  \n",
       "2                                                 []  \n",
       "3  [{'type': 'image', 'subtype': 'photo', 'captio...  \n",
       "4  [{'type': 'image', 'subtype': 'photo', 'captio...  "
      ]
     },
     "execution_count": 171,
     "metadata": {},
     "output_type": "execute_result"
    }
   ],
   "source": [
    "# dataframe with everything I want for later:\n",
    "df_fin=pd.DataFrame(final)\n",
    "df_fin.head()"
   ]
  },
  {
   "cell_type": "code",
   "execution_count": null,
   "id": "31b6a278",
   "metadata": {},
   "outputs": [],
   "source": []
  },
  {
   "cell_type": "code",
   "execution_count": null,
   "id": "13d175c9",
   "metadata": {},
   "outputs": [],
   "source": []
  },
  {
   "cell_type": "code",
   "execution_count": null,
   "id": "8fa472a0",
   "metadata": {},
   "outputs": [],
   "source": []
  }
 ],
 "metadata": {
  "kernelspec": {
   "display_name": "Python 3 (ipykernel)",
   "language": "python",
   "name": "python3"
  },
  "language_info": {
   "codemirror_mode": {
    "name": "ipython",
    "version": 3
   },
   "file_extension": ".py",
   "mimetype": "text/x-python",
   "name": "python",
   "nbconvert_exporter": "python",
   "pygments_lexer": "ipython3",
   "version": "3.9.12"
  }
 },
 "nbformat": 4,
 "nbformat_minor": 5
}
