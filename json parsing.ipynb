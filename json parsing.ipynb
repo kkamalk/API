{
 "cells": [
  {
   "cell_type": "code",
   "execution_count": 113,
   "id": "1c6ec199",
   "metadata": {},
   "outputs": [],
   "source": [
    "\n",
    "import requests # get connection\n",
    "import pandas as pd\n",
    "import json"
   ]
  },
  {
   "cell_type": "code",
   "execution_count": 114,
   "id": "ff7aa51c",
   "metadata": {},
   "outputs": [],
   "source": [
    "Api_Key='2pDLa5j4iIts8ie0QfcC55oGVCdMcXjV'\n",
    "url='https://api.nytimes.com/svc/mostpopular/v2/viewed/7.json?api-key=2pDLa5j4iIts8ie0QfcC55oGVCdMcXjV'#\n",
    "b=requests.get('https://api.nytimes.com/svc/mostpopular/v2/viewed/7.json?api-key=2pDLa5j4iIts8ie0QfcC55oGVCdMcXjV').json()\n",
    "#cv=[]\n",
    "#for x in requests.get('https://api.nytimes.com/svc/mostpopular/v2/viewed/7.json?api-key=2pDLa5j4iIts8ie0QfcC55oGVCdMcXjV').json()\n",
    "        #cv.append(x)"
   ]
  },
  {
   "cell_type": "code",
   "execution_count": 115,
   "id": "b1cb7ead",
   "metadata": {},
   "outputs": [],
   "source": [
    "df=pd.DataFrame(b)"
   ]
  },
  {
   "cell_type": "raw",
   "id": "5844a6d9",
   "metadata": {},
   "source": [
    "for i in df ['results']:\n",
    "    #print (i['media'])"
   ]
  },
  {
   "cell_type": "raw",
   "id": "9b2ceb94",
   "metadata": {},
   "source": [
    "\n",
    "source=[]\n",
    "published_date=[]\n",
    "adx_keywords=[]\n",
    "byline=[]\n",
    "title=[]\n",
    "abstract=[]\n",
    "des_facet=[]\n",
    "per_facet=[]\n",
    "media=[]\n",
    "\n",
    "for i in b ['results']:\n",
    "    source.append(i['source'])\n",
    "    published_date.append(i['published_date'])\n",
    "    adx_keywords.append(i['adx_keywords'])\n",
    "    byline.append(i['byline'])\n",
    "    title.append(i['title'])\n",
    "    abstract.append(i['abstract'])\n",
    "    des_facet.append(i['des_facet'])\n",
    "    per_facet.append(i['per_facet'])\n",
    "    media.append(i['media'])\n",
    "    \n",
    "    mdt={'source':source,'published_date':published_date,'adx_keywords':adx_keywords, \\\n",
    "          'byline':byline, 'title':title,'abstract':abstract,'des_facet':des_facet,'per_facet':per_facet,'media':media}\n",
    "        \n",
    "           "
   ]
  },
  {
   "cell_type": "code",
   "execution_count": null,
   "id": "71f31f6b",
   "metadata": {},
   "outputs": [],
   "source": []
  },
  {
   "cell_type": "code",
   "execution_count": 109,
   "id": "f6a481eb",
   "metadata": {},
   "outputs": [],
   "source": [
    "#x1=pd.DataFrame(mdt)\n",
    "#x1.head()"
   ]
  },
  {
   "cell_type": "code",
   "execution_count": 110,
   "id": "31fd26b1",
   "metadata": {},
   "outputs": [],
   "source": [
    "#final=final.append(x1)"
   ]
  },
  {
   "cell_type": "code",
   "execution_count": 92,
   "id": "84539d99",
   "metadata": {},
   "outputs": [],
   "source": [
    "a=[] # store the captions which are strings I want\n",
    "for i in mdt['media']:\n",
    "    if i==[]:\n",
    "        a.append(None)\n",
    "    else:\n",
    "        for j in i:\n",
    "            if 'caption' in j:\n",
    "                a.append(j['caption'])\n",
    "    \n",
    "\n",
    "             \n",
    "        \n",
    "    \n"
   ]
  },
  {
   "cell_type": "code",
   "execution_count": 94,
   "id": "9682ff50",
   "metadata": {},
   "outputs": [],
   "source": [
    "#removing nest\n",
    "for i in a:\n",
    "    if i =='':\n",
    "        mdt['media'].append(None)\n",
    "    else:\n",
    "        mdt['media'].append(i)\n",
    "        #print(i)"
   ]
  },
  {
   "cell_type": "code",
   "execution_count": 99,
   "id": "60a852a6",
   "metadata": {},
   "outputs": [],
   "source": [
    "\n",
    "#mdt={'source':source,'published_date':published_date,'adx_keywords':adx_keywords, \\\n",
    "         \n",
    "    #'byline':byline, 'title':title,'abstract':abstract,'des_facet':des_facet,'per_facet':per_facet,'media':a}\n",
    "        \n",
    "           "
   ]
  },
  {
   "cell_type": "code",
   "execution_count": 101,
   "id": "7a3606c6",
   "metadata": {},
   "outputs": [
    {
     "data": {
      "text/html": [
       "<div>\n",
       "<style scoped>\n",
       "    .dataframe tbody tr th:only-of-type {\n",
       "        vertical-align: middle;\n",
       "    }\n",
       "\n",
       "    .dataframe tbody tr th {\n",
       "        vertical-align: top;\n",
       "    }\n",
       "\n",
       "    .dataframe thead th {\n",
       "        text-align: right;\n",
       "    }\n",
       "</style>\n",
       "<table border=\"1\" class=\"dataframe\">\n",
       "  <thead>\n",
       "    <tr style=\"text-align: right;\">\n",
       "      <th></th>\n",
       "      <th>source</th>\n",
       "      <th>published_date</th>\n",
       "      <th>adx_keywords</th>\n",
       "      <th>byline</th>\n",
       "      <th>title</th>\n",
       "      <th>abstract</th>\n",
       "      <th>des_facet</th>\n",
       "      <th>per_facet</th>\n",
       "      <th>media</th>\n",
       "    </tr>\n",
       "  </thead>\n",
       "  <tbody>\n",
       "    <tr>\n",
       "      <th>0</th>\n",
       "      <td>New York Times</td>\n",
       "      <td>2022-08-02</td>\n",
       "      <td>Kidnapping and Hostages;Child Abuse and Neglec...</td>\n",
       "      <td>By McKenna Oxenden and Michael Levenson</td>\n",
       "      <td>Girl, 12, Escapes Captivity, Leading Alabama A...</td>\n",
       "      <td>José Paulino Pascual-Reyes, 37, was charged wi...</td>\n",
       "      <td>[Kidnapping and Hostages, Child Abuse and Negl...</td>\n",
       "      <td>[Pascual-Reyes, Jose Paulino]</td>\n",
       "      <td>“She’s a hero,” Sheriff Jimmy Abbett of Tallap...</td>\n",
       "    </tr>\n",
       "  </tbody>\n",
       "</table>\n",
       "</div>"
      ],
      "text/plain": [
       "           source published_date  \\\n",
       "0  New York Times     2022-08-02   \n",
       "\n",
       "                                        adx_keywords  \\\n",
       "0  Kidnapping and Hostages;Child Abuse and Neglec...   \n",
       "\n",
       "                                    byline  \\\n",
       "0  By McKenna Oxenden and Michael Levenson   \n",
       "\n",
       "                                               title  \\\n",
       "0  Girl, 12, Escapes Captivity, Leading Alabama A...   \n",
       "\n",
       "                                            abstract  \\\n",
       "0  José Paulino Pascual-Reyes, 37, was charged wi...   \n",
       "\n",
       "                                           des_facet  \\\n",
       "0  [Kidnapping and Hostages, Child Abuse and Negl...   \n",
       "\n",
       "                       per_facet  \\\n",
       "0  [Pascual-Reyes, Jose Paulino]   \n",
       "\n",
       "                                               media  \n",
       "0  “She’s a hero,” Sheriff Jimmy Abbett of Tallap...  "
      ]
     },
     "execution_count": 101,
     "metadata": {},
     "output_type": "execute_result"
    }
   ],
   "source": [
    "f=pd.DataFrame(mdt)\n",
    "f.head(1)\n"
   ]
  },
  {
   "cell_type": "code",
   "execution_count": null,
   "id": "268703ea",
   "metadata": {},
   "outputs": [],
   "source": [
    "#x={'Name':['kamal','raja'],'age':['18','20']}"
   ]
  },
  {
   "cell_type": "code",
   "execution_count": null,
   "id": "d3663c0f",
   "metadata": {},
   "outputs": [],
   "source": [
    "#pd.DataFrame(x)"
   ]
  },
  {
   "cell_type": "code",
   "execution_count": 104,
   "id": "b93a807b",
   "metadata": {},
   "outputs": [],
   "source": [
    "#pd.DataFrame(mdt)"
   ]
  },
  {
   "cell_type": "code",
   "execution_count": 117,
   "id": "ebab3c3d",
   "metadata": {},
   "outputs": [],
   "source": [
    "def mdn(data):\n",
    "    data=[]\n",
    "    source=[]\n",
    "    published_date=[]\n",
    "    adx_keywords=[]\n",
    "    byline=[]\n",
    "    title=[]\n",
    "    abstract=[]\n",
    "    des_facet=[]\n",
    "    per_facet=[]\n",
    "    media=[]\n",
    "\n",
    "    for i in b ['results']:\n",
    "        source.append(i['source'])\n",
    "        published_date.append(i['published_date'])\n",
    "        adx_keywords.append(i['adx_keywords'])\n",
    "        byline.append(i['byline'])\n",
    "        title.append(i['title'])\n",
    "        abstract.append(i['abstract'])\n",
    "        des_facet.append(i['des_facet'])\n",
    "        per_facet.append(i['per_facet'])\n",
    "        media.append(i['media'])\n",
    "\n",
    "    mdt={'source':source,'published_date':published_date,'adx_keywords':adx_keywords, \\\n",
    "              'byline':byline, 'title':title,'abstract':abstract,'des_facet':des_facet,'per_facet':per_facet,'media':media}\n",
    "    data=data.append(mdt)\n",
    "        \n",
    "    return data\n",
    "\n"
   ]
  },
  {
   "cell_type": "code",
   "execution_count": 112,
   "id": "6c615a96",
   "metadata": {},
   "outputs": [],
   "source": [
    "#pd.DataFrame(mdt)"
   ]
  },
  {
   "cell_type": "code",
   "execution_count": 119,
   "id": "82121f13",
   "metadata": {},
   "outputs": [
    {
     "ename": "NameError",
     "evalue": "name 'data' is not defined",
     "output_type": "error",
     "traceback": [
      "\u001b[1;31m---------------------------------------------------------------------------\u001b[0m",
      "\u001b[1;31mNameError\u001b[0m                                 Traceback (most recent call last)",
      "Input \u001b[1;32mIn [119]\u001b[0m, in \u001b[0;36m<cell line: 1>\u001b[1;34m()\u001b[0m\n\u001b[1;32m----> 1\u001b[0m df\u001b[38;5;241m=\u001b[39mmdn(\u001b[43mdata\u001b[49m)\n",
      "\u001b[1;31mNameError\u001b[0m: name 'data' is not defined"
     ]
    }
   ],
   "source": [
    "df=mdn(data)"
   ]
  },
  {
   "cell_type": "code",
   "execution_count": null,
   "id": "10e54739",
   "metadata": {},
   "outputs": [],
   "source": []
  }
 ],
 "metadata": {
  "kernelspec": {
   "display_name": "Python 3 (ipykernel)",
   "language": "python",
   "name": "python3"
  },
  "language_info": {
   "codemirror_mode": {
    "name": "ipython",
    "version": 3
   },
   "file_extension": ".py",
   "mimetype": "text/x-python",
   "name": "python",
   "nbconvert_exporter": "python",
   "pygments_lexer": "ipython3",
   "version": "3.9.12"
  }
 },
 "nbformat": 4,
 "nbformat_minor": 5
}
